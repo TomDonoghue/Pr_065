{
 "cells": [
  {
   "cell_type": "markdown",
   "metadata": {},
   "source": [
    "# COGS 108 - Assignment 4: Project Proposal"
   ]
  },
  {
   "cell_type": "markdown",
   "metadata": {},
   "source": [
    "## Important\n",
    "\n",
    "- Make sure all group member (3-5 people) are listed in the group members section.\n",
    "- ONE, and only one, member of your group should upload this notebook to TritonED. \n",
    "- Each member of the group will receive the same grade on this assignment. \n",
    "- Keep the file name the same: submit the file 'A4_ProjectProposal.ipynb'"
   ]
  },
  {
   "cell_type": "markdown",
   "metadata": {},
   "source": [
    "## Overview"
   ]
  },
  {
   "cell_type": "markdown",
   "metadata": {},
   "source": [
    "Read the project description, and detailed instructions for this assignment, in the 'A4_ProjectOutlineAndProposal' pdf."
   ]
  },
  {
   "cell_type": "markdown",
   "metadata": {},
   "source": [
    "## Group Members: Fill in the Student ID's of each group member here\n",
    "- A11687994 - Henry Huynh\n",
    "- A14235192 - Pardeep Singh\n",
    "- A12105649 - Omer Usmami"
   ]
  },
  {
   "cell_type": "markdown",
   "metadata": {},
   "source": [
    "### Research Question\n",
    "\n",
    "What is your research question? (1-2 sentences)"
   ]
  },
  {
   "cell_type": "markdown",
   "metadata": {},
   "source": [
    "Based on the field goals made and attempted from Stephen Curry's previous 3 years, where should Stephen Curry shoot on the court to be most effective in 2017's playoff run?"
   ]
  },
  {
   "cell_type": "markdown",
   "metadata": {},
   "source": [
    "### Hypothesis\n",
    "\n",
    "What is your prediction (2-3 sentences)"
   ]
  },
  {
   "cell_type": "markdown",
   "metadata": {},
   "source": [
    "Based on our current knowledge, we believe that Stephen Curry is most effective shooting from the wings behind the 3 point line. (Wings: \"Wings\" would be considered the left and right sides of the 3 point line)  "
   ]
  },
  {
   "cell_type": "markdown",
   "metadata": {},
   "source": [
    "### Dataset(s)\n",
    "\n",
    "What data will you use to answer your question? Describe the dataset in terms of number of observations, what kind of features it contains, etc. You must use at least one dataset containing at least approximately 1000 observations (if your data are smaller but you feel they are sufficient, email Prof. Voytek). You are welcome (and in fact recommended) to find multiple datasets! If you do so, describe each one, and briefly explain how you will combine them together. "
   ]
  },
  {
   "cell_type": "markdown",
   "metadata": {},
   "source": [
    "*Fill in your dataset information here*\n",
    "\n",
    "(Copy this information for each dataset)\n",
    "- Dataset Name: Basketball Reference\n",
    "- Dataset Name 2: NBA.com\n",
    "- Link to the dataset: http://bkref.com/tiny/bR8mp\n",
    "- Link to dataset 2: http://stats.nba.com/stats/shotchartdetail?Period=0&VsConference=&LeagueID=00&LastNGames=0&TeamID=0&Position=&Location=&Outcome=&ContextMeasure=FGA&DateFrom=&StartPeriod=&DateTo=&OpponentTeamID=0&ContextFilter=&RangeType=&Season=2016-17&AheadBehind=&PlayerID=201939&EndRange=&VsDivision=&PointDiff=&RookieYear=&GameSegment=&Month=0&ClutchTime=&StartRange=&EndPeriod=&SeasonType=Regular+Season&SeasonSegment=&GameID=&PlayerPosition=\n",
    "- Number of observations: 4382\n",
    "- Number of observations 2: Approximately 4000\n",
    "\n",
    "1-2 sentences describing the dataset. \n",
    "This dataset contains every shot attempt from Stephen Curry's previous 3 years, along with other statistics, such as free throws attempted and made.\n",
    "\n",
    "If you plan to use multiple datasets, add 1-2 sentences about how you plan to combine these datasets.\n",
    "\n",
    "We plan on using two datasets for our project. One primary dataset which will contain the majority of our data, where as our second dataset will contain a few stats that we plan on using. "
   ]
  },
  {
   "cell_type": "markdown",
   "metadata": {},
   "source": [
    "### Background & Prior Work\n",
    "\n",
    "Why is this question of interest, what background information led you to your hypothesis, and why is this important?\n",
    "\n",
    "Find some relevant prior work, and reference them. Even if you think you have a totally novel question, find the most similar prior work you can, and discuss how it relates to your project. \n",
    "\n",
    "References can be research publications, but they need not be: blogs, github repositories, company websites, etc., are viable references if they are relevant to your project.\n",
    "\n",
    "(2-3 paragraphs, including at least 2 references)"
   ]
  },
  {
   "cell_type": "markdown",
   "metadata": {},
   "source": [
    "*Fill in your background and prior work here* \n",
    "1. This question has brought to our attention mainly because of the NBA playoffs that is currently happening. With our common interest in sports, basketball in particular, and also simply from watching Stephen Curry for the last 3 years, and seeing that Stephen Curry is often making his shots from the wing, we made the assumption that Stephen Curry is most efficient shooting from the wing behind the 3 point line. We made this assumption of behind the 3 point line strictly because it offers more points than the 2 point shot and with his incredible ability to shoot, he will be more efficient shooting from here. With this proposal, it is important in various ways. One way this is important is because with our proposal and hypothesis, this could potentially help out Stephen Curry himself to become a more efficient player as well as a better idea of how he is performing. Along with potentially helping Stephen Curry, this proposal can help defenders on preventing Stephen Curry from shooting at his  most dangerous spots on the court. \n",
    "\n",
    "Another reason that brought us to this question of interest was from the first article from \"The Alantic\" news article written by Terrance Ross. While reading this article, we started to wonder: why are people shooting 3 pointers instead of the long two pointers, why were people shooting so far from the paint, and so close to the 3 point line but yet settling for 2 points when a player could shoot slightly further and gain that extra point. In this article, analytics were concern of this problem and tackled on this problem while showing the successful teams such as: The Golden State Warriors, Cleveland Cavaliers, and the Houston Rockets, took into consideration of this idea, and because of this, these teams began to thrive to success over the other teams. \n",
    "\n",
    "Another article that brought to our attention was the second article listed from ESPN. This article, similar to the one above, talked about analytics and how they are incorporated with sports. This was interesting to us because of how they ranked teams of multiple sports regarding the use of analytics and to see how successful each team is in their respective sports. \n",
    "\n",
    "Referencess (include a link):\n",
    "- 1)The Alantic News Article: https://www.google.com/url?q=https%3A%2F%2Fwww.theatlantic.com%2Fentertainment%2Farchive%2F2015%2F06%2Fnba-data-analytics%2F396776%2F&sa=D&sntz=1&usg=AFQjCNERG_Rn1gtCAp8v0lWDcvJ6bwBqWw\n",
    "- 2) ESPN Article: http://www.google.com/url?q=http%3A%2F%2Fwww.espn.com%2Fespn%2Ffeature%2Fstory%2F_%2Fid%2F12331388%2Fthe-great-analytics-rankings%23nba-sas&sa=D&sntz=1&usg=AFQjCNHc7SuFiO2qBdYloNL8q1uhEAOyBw"
   ]
  },
  {
   "cell_type": "markdown",
   "metadata": {},
   "source": [
    "### Proposed Methods\n",
    "\n",
    "What methods will you use to analyze your data?\n",
    "\n",
    "- How 'clean' is the data? To the extent that it requires cleaning, how will you do so?\n",
    "- How will you analyze the data? Be as specific as you can. Briefly mention any pre-processing steps that are required for your methods (for example, checking data distributions and performing any transformations that may be required). Include a brief outline of how you will apply your chosen method(s). \n",
    "- What do you plan to report? Briefly mention any key visualizations you plan to create, and/or the kind of result you will be able to report that addresses your question (this could be, for example, the outcome of some statistical test(s), prediction error on a model, a model fit parameter, etc.).\n",
    "- Include a list of packages you expect to use for you project. If you plan to use packages we have not used in class, add a very brief description about them (a few words is sufficient). "
   ]
  },
  {
   "cell_type": "markdown",
   "metadata": {},
   "source": [
    "*Fill in your proposed methods information here:*\n",
    "\n",
    "-Some of the few methods that we took into consideration with our data will be a linear regression line comparing his age with his field goals made to make a conclusion about whether or not he will decay with age or progress.\n",
    "\n",
    "-Along with a linear regression line. We plan on making a line of best fit so that we can use his previous seasons to make an inference on how he will do in his future 2017's NBA playoffs.\n",
    "\n",
    "*Data Cleaning (2-3 sentences)*\n",
    "Initially, because of our data we imported contains many different columns that we do not need, we will start by cleaning up or data with dropping the unnecessary columns that are there. Because our data will contain information and stats that we needed at the time, but not for another, we plan on cleaning our data by constantly adding and dropping data to what we need.\n",
    "\n",
    "*Data Analysis (1-2 paragraphs)*\n",
    "Initially, because of our data we imported contains many different columns that we do not need, we will start by cleaning up or data with dropping the unnecessary columns that are there. After cleaning out the data that we do not need, we can then focus on his field goals made and missed throughout his last 3 seasons and plot them on a statter plot. From the scatter plot, we can then see how the data is distributed in order to make an inference on where he is most efficient and also where he mostly struggles. We plan to breaking down the scatter plot to certain zones or quandrants of the court. From there we can see percentages and field goals made to make the inference that we need but keeping in mind his high field goal percentage with only shooting little attempts. \n",
    "\n",
    "Another aspect of our project will be importing the number of assists and field goals made for every game during the last 3 seasons. After importing the data, we plan to plot each stat into a chart so that we can visualize our data. After plotting the data into a chart, we want to make a line of best fit in order to make a correlation on whether or not his higher amounts of assists correlated with his higher amount of field goals made. Another dataset we plan on discussing will be the field goals made with his age. With this data, we plan on making a linear regression line so that we can make an inference on whether or not he will decay or progress as he gets older.  \n",
    "\n",
    "\n",
    "*What to report (2-3 sentences)*\n",
    "Our reports in our project will include visualizations that will compare and contast statistics as well as predicting new outcomes. Some visualizations are: scatter plots, line graphs and etc. We are also making predictions like earlier stated on whether or not he will decay or progress with age as well as make inferences on where he is most efficient. \n",
    "\n",
    "Packages we plan to use:\n",
    "- a: mathplotlib\n",
    "- b: numpy \n",
    "- c: pandas (we might not additional packages if the function or tasks we wish to perform can not be done)\n",
    "*most likely need help with this section*"
   ]
  },
  {
   "cell_type": "markdown",
   "metadata": {},
   "source": [
    "### Discussion\n",
    "\n",
    "What are the pitfalls and potential confounds of your data and/or methods? For example, how might biases in your data sources or analyses influence your interpretations? What will you do if you methods don't work and/or your hypotheses are wrong?\n",
    "\n",
    "(2-3 paragraphs)"
   ]
  },
  {
   "cell_type": "markdown",
   "metadata": {},
   "source": [
    "*Fill in your discussion information here*\n",
    "One confound, is that since we are working with so much data, in this case categoires, it will be diificult understanding and deciding which statistics to take into consideration when performing certain analysis. Therefore, we have to start with the basic data, and then work our way up towards more complex manipulations. Another confound is that our predictions may be justifle, but we won't know for certain if our models are one hundred percent accurate. In addition, we are only observing Stephen Curry's past three basketball seaons, instead of his entire NBA career.\n",
    "\n",
    "If our methods on analysis do not work out to our favoring, we will reach out to the TA's and professor for assistance. On top of that, we will gather information from other resources such as stack overflow, python tuorial videos, and the least favorable method, textbooks. If our hypothesis is incorrect, we will be bummed, but instead of trashing our work we will investigate at which point we got our data wrong( i.e. wrong axis labels, incorrect step size, used the wrong method...) Perhaps our hyothesis may in fact be false, but our project will still be able to provide interesting and insightful information. "
   ]
  }
 ],
 "metadata": {
  "kernelspec": {
   "display_name": "Python 3",
   "language": "python",
   "name": "python3"
  },
  "language_info": {
   "codemirror_mode": {
    "name": "ipython",
    "version": 3
   },
   "file_extension": ".py",
   "mimetype": "text/x-python",
   "name": "python",
   "nbconvert_exporter": "python",
   "pygments_lexer": "ipython3",
   "version": "3.6.0"
  }
 },
 "nbformat": 4,
 "nbformat_minor": 2
}
